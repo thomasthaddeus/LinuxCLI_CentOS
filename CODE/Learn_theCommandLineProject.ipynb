{
 "cells": [
  {
   "cell_type": "markdown",
   "metadata": {},
   "source": [
    "# Learn the Command Line\n",
    "\n",
    "## Artusi\n",
    "\n",
    "> Let’s use commands we just learned to manipulate the files and directories of Artusi, an arts supply Store.\n",
    "\n",
    "> > If you get stuck during this project or would like to see an experienced developer work through it, click “Get Unstuck“ to see a project walkthrough video.\n",
    "\n",
    "## Tasks\n",
    "\n",
    "Mark the tasks as complete by checking them off\n",
    "\n",
    "---\n",
    "\n",
    "1. Print the working directory.\n",
    "   + `pwd`\n",
    ". List all contents in the current directory, including hidden files and directories.\n",
    "   + `ls -a`\n",
    "3. List all contents, in long format.\n",
    "   + `ls -al`\n",
    "4. List all contents, including hidden files and directories, in long format, ordered by the date and time they were last modified.\n",
    "   + `ls -alt`\n",
    "5. Change directories to the pencils/ directory. The relative path of the pencils directory is drawing/pencils/.\n",
    "   + `cd drawing/pencils`\n",
    "6. List all contents in the current working directory, including hidden files and directories.\n",
    "   + `ls -a`\n",
    "7. Copy the file color.txt to graphite.txt.\n",
    "   + `cp color.txt graphite.txt`\n",
    "8. Change directories into the charcoal/ directory. The relative path to the charcoal directory is ../charcoal/.\n",
    "   + `cd ../charcoal`\n",
    "9. Copy the file compressed.txt to vine.txt.\n",
    "   + `cp compressed.txt vine.txt`\n",
    "10. Copy the file vine.txt to pencils/color.txt. The relative path of the latter is ../pencils/color.txt.\n",
    "    + `cp vine.txt ../pencils/color.txt`\n",
    "11. From the charcoal/ directory, change directories to the painting/ directory. The relative path is ../../painting/.\n",
    "    + `cd ../../painting/`\n",
    "12. Print the working directory.\n",
    "    + `ls -a`\n",
    "13. List all contents, in long format, including the hidden files and directories, ordered by the date and time they were last modified.\n",
    "    + `ls -alt`\n",
    "14. Change directories to the brushes/ directory.\n",
    "    + `cd brushes/`\n",
    "15. List all contents, in long format, including the hidden files and directories, ordered by the date and time they were last modified.\n",
    "    + `ls -alt`\n",
    "16. Copy the files starting with the letter f from the brushes/ directory to the paint/ directory. The path to the paint/ directory is ../paint/.\n",
    "    + `cp brushes/f* ../paint/`\n",
    "    1. Without changing directories, list the files and directories of the paint/ directory.\n",
    "        + `ls ../paint/`\n",
    "17. Change directories to the sculpting/ directory. The relative path is ../../sculpting/\n",
    "    + `cd ../../sculpting/`\n",
    "18. List all contents, in long format, including the hidden files and directories, ordered by the date and time they were last modified.\n",
    "    + `ls -alt`\n",
    "19. Change directories into the clay/polymer/ directory, and list all contents of the directory.\n",
    "    + `cd /home/ccuser/workspace/artusi/sculpting`\n",
    "    + `cd clay/polymer`\n",
    "    + `ls -a`\n",
    "20. Move airdry.txt into the ceramic/ directory. The relative path to the is ../ceramic/.\n",
    "    + `mv airdry.txt ../ceramic/`\n",
    "21. Change directories into the ceramic/ directory.\n",
    "    + `cd ../ceramic/`\n",
    "22. List all contents, including hidden files and directories.\n",
    "    + `ls -a`\n",
    "23. Remove earthenware.txt from the current directory.\n",
    "    + `rm earthenware.txt`\n",
    "24. Change directories one level up back to the clay/ directory.\n",
    "    + `cd ../`\n",
    "25. Take a look at the contents of the current directory clay/. Delete the dough/ directory.\n",
    "    + `ls`\n",
    "    + `rm -r dough/`\n",
    "26. Change directories two levels up back to the artusi/ directory. Print the working directory.\n",
    "    + `cd ../../`\n",
    "    + `ls`"
   ]
  },
  {
   "cell_type": "code",
   "execution_count": 1,
   "metadata": {
    "vscode": {
     "languageId": "shellscript"
    }
   },
   "outputs": [
    {
     "ename": "SyntaxError",
     "evalue": "invalid syntax (1285460692.py, line 5)",
     "output_type": "error",
     "traceback": [
      "\u001b[1;36m  Input \u001b[1;32mIn [1]\u001b[1;36m\u001b[0m\n\u001b[1;33m    cd drawing/pencils\u001b[0m\n\u001b[1;37m       ^\u001b[0m\n\u001b[1;31mSyntaxError\u001b[0m\u001b[1;31m:\u001b[0m invalid syntax\n"
     ]
    }
   ],
   "source": [
    "#!BASH/Shell.sh\n",
    "\n",
    "pwd\n",
    "ls -a\n",
    "ls -al\n",
    "ls -alt\n",
    "cd drawing/pencils\n",
    "ls -a\n",
    "cp color.txt graphite.txt\n",
    "cd ../charcoal\n",
    "cp compressed.txt vine.txt\n",
    "cp vine.txt ../pencils/color.txt\n",
    "cd ../../painting/\n",
    "ls -a\n",
    "ls -alt\n",
    "cd brushes/\n",
    "ls -alt\n",
    "cp brushes/f* ../paint/\n",
    "    ls ../paint/\n",
    "cd ../../sculpting/\n",
    "ls -alt\n",
    "cd /home/ccuser/workspace/artusi/sculpting\n",
    "cd clay/polymer\n",
    "ls -a\n",
    "mv airdry.txt ../ceramic/\n",
    "cd ../ceramic/\n",
    "ls -a\n",
    "rm earthenware.txt\n",
    "cd ../\n",
    "ls\n",
    "rm -r dough/\n",
    "cd ../../\n",
    "ls\n"
   ]
  }
 ],
 "metadata": {
  "kernelspec": {
   "display_name": "Python 3.10.5 64-bit",
   "language": "python",
   "name": "python3"
  },
  "language_info": {
   "codemirror_mode": {
    "name": "ipython",
    "version": 3
   },
   "file_extension": ".py",
   "mimetype": "text/x-python",
   "name": "python",
   "nbconvert_exporter": "python",
   "pygments_lexer": "ipython3",
   "version": "3.10.5"
  },
  "orig_nbformat": 4,
  "vscode": {
   "interpreter": {
    "hash": "26de051ba29f2982a8de78e945f0abaf191376122a1563185a90213a26c5da77"
   }
  }
 },
 "nbformat": 4,
 "nbformat_minor": 2
}
